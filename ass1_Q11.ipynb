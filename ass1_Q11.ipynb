{
  "nbformat": 4,
  "nbformat_minor": 0,
  "metadata": {
    "colab": {
      "provenance": []
    },
    "kernelspec": {
      "name": "python3",
      "display_name": "Python 3"
    },
    "language_info": {
      "name": "python"
    }
  },
  "cells": [
    {
      "cell_type": "code",
      "execution_count": 1,
      "metadata": {
        "id": "dpqQvdORqDBX"
      },
      "outputs": [],
      "source": [
        "import numpy as np\n",
        "import pandas as pd\n",
        "from scipy import stats\n",
        "from scipy.stats import norm"
      ]
    },
    {
      "cell_type": "code",
      "source": [
        "conf_94=stats.t.interval(0.94,df=1999,loc=200,scale=30/np.sqrt(2000))\n"
      ],
      "metadata": {
        "id": "8kHdb8PtqJGB"
      },
      "execution_count": 18,
      "outputs": []
    },
    {
      "cell_type": "code",
      "source": [
        "conf_94"
      ],
      "metadata": {
        "colab": {
          "base_uri": "https://localhost:8080/"
        },
        "id": "7Jt88oKkqtTE",
        "outputId": "ce9e9ad5-91bf-42e6-cf86-b846a2915afe"
      },
      "execution_count": 19,
      "outputs": [
        {
          "output_type": "execute_result",
          "data": {
            "text/plain": [
              "(198.7376089443071, 201.2623910556929)"
            ]
          },
          "metadata": {},
          "execution_count": 19
        }
      ]
    },
    {
      "cell_type": "code",
      "source": [
        "conf_96=stats.t.interval(0.96,df=1996,loc=200,scale=30/np.sqrt(2000))"
      ],
      "metadata": {
        "id": "zXn1f96LsILc"
      },
      "execution_count": 20,
      "outputs": []
    },
    {
      "cell_type": "code",
      "source": [
        "conf_96"
      ],
      "metadata": {
        "colab": {
          "base_uri": "https://localhost:8080/"
        },
        "id": "VKxCBy2Fswkt",
        "outputId": "a3d14316-2f41-4e41-8ab2-e6f2d3a83f90"
      },
      "execution_count": 21,
      "outputs": [
        {
          "output_type": "execute_result",
          "data": {
            "text/plain": [
              "(198.6214023899985, 201.3785976100015)"
            ]
          },
          "metadata": {},
          "execution_count": 21
        }
      ]
    },
    {
      "cell_type": "code",
      "source": [
        "conf_98=stats.t.interval(0.98,df=1999,loc=200,scale=30/np.sqrt(2000))"
      ],
      "metadata": {
        "id": "qnrfdjv2szHH"
      },
      "execution_count": 22,
      "outputs": []
    },
    {
      "cell_type": "code",
      "source": [
        "conf_98"
      ],
      "metadata": {
        "colab": {
          "base_uri": "https://localhost:8080/"
        },
        "id": "NVOtoruatB1V",
        "outputId": "b4100db5-eb7c-418e-d09b-842d83541aea"
      },
      "execution_count": 23,
      "outputs": [
        {
          "output_type": "execute_result",
          "data": {
            "text/plain": [
              "(198.4381860483216, 201.5618139516784)"
            ]
          },
          "metadata": {},
          "execution_count": 23
        }
      ]
    }
  ]
}